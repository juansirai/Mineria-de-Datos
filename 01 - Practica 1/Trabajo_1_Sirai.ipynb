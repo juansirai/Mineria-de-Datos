{
 "cells": [
  {
   "cell_type": "markdown",
   "metadata": {
    "pycharm": {
     "name": "#%% md\n"
    }
   },
   "source": [
    "# Trabajo Practico 1\n",
    "\n",
    "## Ejercicio 4\n",
    "\n",
    "El archivo estrellas2023.csv contiene información sobre estrellas de una zona del\n",
    "espacio previamente inexplorada. Utilizando este archivo, realice las siguientes\n",
    "operaciones. Incluya en su respuesta los cálculos realizados.\n"
   ]
  },
  {
   "cell_type": "code",
   "execution_count": 53,
   "metadata": {
    "pycharm": {
     "name": "#%%\n"
    }
   },
   "outputs": [],
   "source": [
    "import pandas as pd\n",
    "import seaborn as sns\n",
    "import matplotlib.pyplot as plt\n",
    "import numpy as np"
   ]
  },
  {
   "cell_type": "code",
   "execution_count": 14,
   "metadata": {
    "pycharm": {
     "name": "#%%\n"
    }
   },
   "outputs": [
    {
     "data": {
      "text/html": [
       "<div>\n",
       "<style scoped>\n",
       "    .dataframe tbody tr th:only-of-type {\n",
       "        vertical-align: middle;\n",
       "    }\n",
       "\n",
       "    .dataframe tbody tr th {\n",
       "        vertical-align: top;\n",
       "    }\n",
       "\n",
       "    .dataframe thead th {\n",
       "        text-align: right;\n",
       "    }\n",
       "</style>\n",
       "<table border=\"1\" class=\"dataframe\">\n",
       "  <thead>\n",
       "    <tr style=\"text-align: right;\">\n",
       "      <th></th>\n",
       "      <th>Edad</th>\n",
       "      <th>Temperatura</th>\n",
       "      <th>clase</th>\n",
       "    </tr>\n",
       "  </thead>\n",
       "  <tbody>\n",
       "    <tr>\n",
       "      <th>0</th>\n",
       "      <td>10</td>\n",
       "      <td>6200</td>\n",
       "      <td>0</td>\n",
       "    </tr>\n",
       "    <tr>\n",
       "      <th>1</th>\n",
       "      <td>14</td>\n",
       "      <td>3000</td>\n",
       "      <td>0</td>\n",
       "    </tr>\n",
       "    <tr>\n",
       "      <th>2</th>\n",
       "      <td>-155</td>\n",
       "      <td>6600</td>\n",
       "      <td>0</td>\n",
       "    </tr>\n",
       "  </tbody>\n",
       "</table>\n",
       "</div>"
      ],
      "text/plain": [
       "   Edad  Temperatura   clase \n",
       "0    10         6200        0\n",
       "1    14         3000        0\n",
       "2  -155         6600        0"
      ]
     },
     "metadata": {},
     "output_type": "display_data"
    },
    {
     "data": {
      "text/plain": [
       "'shape: '"
      ]
     },
     "metadata": {},
     "output_type": "display_data"
    },
    {
     "data": {
      "text/plain": [
       "(13, 3)"
      ]
     },
     "metadata": {},
     "output_type": "display_data"
    }
   ],
   "source": [
    "data = pd.read_csv('estrellas2023.csv')\n",
    "display(data.head(3), \"shape: \", data.shape)"
   ]
  },
  {
   "cell_type": "markdown",
   "metadata": {
    "pycharm": {
     "name": "#%% md\n"
    }
   },
   "source": [
    "-----------\n",
    "\n",
    "**A. Discretice por frecuencia el atributo Edad en dos intervalos llamados Baja y Alta. Indique los rangos de los dos intervalos resultantes, así como la cantidad de ejemplos que hay en cada intervalo.**"
   ]
  },
  {
   "cell_type": "code",
   "execution_count": 65,
   "metadata": {
    "pycharm": {
     "name": "#%%\n"
    }
   },
   "outputs": [
    {
     "data": {
      "text/plain": [
       "<AxesSubplot:xlabel='Edad', ylabel='Observaciones'>"
      ]
     },
     "execution_count": 65,
     "metadata": {},
     "output_type": "execute_result"
    },
    {
     "data": {
      "image/png": "[encoded data removed]",
      "text/plain": [
       "<Figure size 432x288 with 1 Axes>"
      ]
     },
     "metadata": {
      "needs_background": "light"
     },
     "output_type": "display_data"
    }
   ],
   "source": [
    "pivot = data['Edad'].value_counts().reset_index()\n",
    "pivot.columns = ['Edad', 'Observaciones']\n",
    "pivot = pivot.sort_values(by='Edad')\n",
    "sns.barplot(data=pivot, x='Edad', y='Observaciones')"
   ]
  },
  {
   "cell_type": "code",
   "execution_count": 39,
   "metadata": {
    "pycharm": {
     "name": "#%%\n"
    }
   },
   "outputs": [
    {
     "name": "stdout",
     "output_type": "stream",
     "text": [
      "Edades presentes: [-300 -155  -60  -32  -25  -10   -7   -1    2   10   14   16  120]\n"
     ]
    }
   ],
   "source": [
    "print(f\"Edades presentes: {data.sort_values('Edad')['Edad'].unique()}\")"
   ]
  },
  {
   "cell_type": "markdown",
   "metadata": {
    "pycharm": {
     "name": "#%% md\n"
    }
   },
   "source": [
    "Tengo entonces 13 valores posibles de edades, distribuidos en dos intervalos que deberían contener la misma (o similar) cantidad de observaciones.\n",
    "\n",
    "Podemos para ello utilizar la mediana (medida de tendencia central que divide a la muestra en partes aproximadamente i"
   ]
  },
  {
   "cell_type": "code",
   "execution_count": 36,
   "metadata": {
    "pycharm": {
     "name": "#%%\n"
    }
   },
   "outputs": [
    {
     "name": "stdout",
     "output_type": "stream",
     "text": [
      "Mediana de Edades: -7.0\n"
     ]
    }
   ],
   "source": [
    "print(f\"Mediana de Edades: {data.Edad.median()}\")"
   ]
  },
  {
   "cell_type": "markdown",
   "metadata": {
    "pycharm": {
     "name": "#%% md\n"
    }
   },
   "source": [
    "Alternativamente, como cada edad tiene solo una observacion y tengo 13 edades, podemos ver que ordenadas de menor a mayor nuestros valores intermedios son -7 y -1, con lo cual nuestro separador de intervalos es (-7 + -1) / 2 = -4\n",
    "Nuestros intervalos se conforman entonces de (-infinito a -4) y de [-4 a infinito)"
   ]
  },
  {
   "cell_type": "code",
   "execution_count": 72,
   "metadata": {
    "pycharm": {
     "name": "#%%\n"
    }
   },
   "outputs": [],
   "source": [
    "int1 = [x for x in data['Edad'] if x < -4]\n",
    "int2 = [x for x in data['Edad'] if x >= -4]"
   ]
  },
  {
   "cell_type": "code",
   "execution_count": 79,
   "metadata": {
    "pycharm": {
     "name": "#%%\n"
    }
   },
   "outputs": [
    {
     "name": "stdout",
     "output_type": "stream",
     "text": [
      "Primer intervalo contiene 7 observaciones mientras que el segundo contiene 6\n"
     ]
    }
   ],
   "source": [
    "print(f\"Primer intervalo contiene {len(int1)} observaciones mientras que el segundo contiene {len(int2)}\")"
   ]
  },
  {
   "cell_type": "markdown",
   "metadata": {
    "pycharm": {
     "name": "#%% md\n"
    }
   },
   "source": [
    "|  | Baja | Alta |\n",
    "|------|--------------|---|\n",
    "|Intervalos| (-inf - -4) |[4 - inf) |\n",
    "|Valores | 7|6 |"
   ]
  },
  {
   "cell_type": "markdown",
   "metadata": {
    "pycharm": {
     "name": "#%% md\n"
    }
   },
   "source": [
    "------------------"
   ]
  },
  {
   "cell_type": "markdown",
   "metadata": {
    "pycharm": {
     "name": "#%% md\n"
    }
   },
   "source": [
    "**B. Discretice por rango el atributo Edad en dos intervalos llamados Baja y Alta.\n",
    "Indique los rangos de los dos intervalos resultantes, así como la cantidad de\n",
    "ejemplos que hay en cada intervalo**"
   ]
  },
  {
   "cell_type": "markdown",
   "metadata": {
    "pycharm": {
     "name": "#%% md\n"
    }
   },
   "source": [
    "En la discretizacion por rangos, se deben generar intervalos de la misma longitud. En este caso como debo generar dos intervalos, debo tomar el valor minimo y maximo de la muestra (en este caso -300 y 120).\n",
    "\n",
    "- Rango = -300 a 120\n",
    "- Longitud del rango 120 - (-300) = 420\n",
    "- Largo de intervalos = 420 / 2 = 210\n",
    "- - -300 + 210 = -90\n",
    "- Intervalos = (-inf - -90), [90 - inf)\n"
   ]
  },
  {
   "cell_type": "markdown",
   "metadata": {
    "pycharm": {
     "name": "#%% md\n"
    }
   },
   "source": [
    "|  | Baja | Alta |\n",
    "|------|--------------|---|\n",
    "|Intervalos| (-inf - -90) |[-90 - inf) |\n",
    "|Valores | 2|11 |"
   ]
  },
  {
   "cell_type": "markdown",
   "metadata": {
    "pycharm": {
     "name": "#%% md\n"
    }
   },
   "source": [
    "-----------"
   ]
  },
  {
   "cell_type": "markdown",
   "metadata": {
    "pycharm": {
     "name": "#%% md\n"
    }
   },
   "source": [
    "**Calcule la correlación lineal entre los atributos Edad y Temperatura. Indique la\n",
    "intensidad de la correlación (no hay correlación/débil/fuerte) y el tipo\n",
    "(positiva/negativa)**"
   ]
  },
  {
   "cell_type": "code",
   "execution_count": 87,
   "metadata": {
    "pycharm": {
     "name": "#%%\n"
    }
   },
   "outputs": [
    {
     "data": {
      "text/html": [
       "<div>\n",
       "<style scoped>\n",
       "    .dataframe tbody tr th:only-of-type {\n",
       "        vertical-align: middle;\n",
       "    }\n",
       "\n",
       "    .dataframe tbody tr th {\n",
       "        vertical-align: top;\n",
       "    }\n",
       "\n",
       "    .dataframe thead th {\n",
       "        text-align: right;\n",
       "    }\n",
       "</style>\n",
       "<table border=\"1\" class=\"dataframe\">\n",
       "  <thead>\n",
       "    <tr style=\"text-align: right;\">\n",
       "      <th></th>\n",
       "      <th>Edad</th>\n",
       "      <th>Temperatura</th>\n",
       "    </tr>\n",
       "  </thead>\n",
       "  <tbody>\n",
       "    <tr>\n",
       "      <th>Edad</th>\n",
       "      <td>1.000000</td>\n",
       "      <td>0.159637</td>\n",
       "    </tr>\n",
       "    <tr>\n",
       "      <th>Temperatura</th>\n",
       "      <td>0.159637</td>\n",
       "      <td>1.000000</td>\n",
       "    </tr>\n",
       "  </tbody>\n",
       "</table>\n",
       "</div>"
      ],
      "text/plain": [
       "                 Edad  Temperatura\n",
       "Edad         1.000000     0.159637\n",
       "Temperatura  0.159637     1.000000"
      ]
     },
     "execution_count": 87,
     "metadata": {},
     "output_type": "execute_result"
    }
   ],
   "source": [
    "\n",
    "corr = data[['Edad', 'Temperatura']].corr()\n",
    "corr"
   ]
  },
  {
   "cell_type": "markdown",
   "metadata": {
    "pycharm": {
     "name": "#%% md\n"
    }
   },
   "source": [
    "|  | Correlacion | \n",
    "|------|--------------|\n",
    "|Valor| 0.15|\n",
    "|Intensidad|Debil|\n",
    "|Tipo|Positiva|"
   ]
  },
  {
   "cell_type": "markdown",
   "metadata": {
    "pycharm": {
     "name": "#%% md\n"
    }
   },
   "source": [
    "-------------------------------------------\n",
    "\n",
    "**Dibuje un Diagrama de Caja de Tukey de la variable Edad e inclúyalo en la\n",
    "respuesta. Indique también los valores del cuadro**"
   ]
  },
  {
   "cell_type": "code",
   "execution_count": 130,
   "metadata": {
    "pycharm": {
     "name": "#%%\n"
    }
   },
   "outputs": [],
   "source": [
    "mediana = data['Edad'].median()\n",
    "# q1, q3 = data['Edad'].quantile([0.25, 0.75])\n",
    "\n",
    "# tengo 13 observaciones, las que debo dividir en 4 para calcular los quartiles.\n",
    "n1 = (13 + 1)/4 # 3.5, entonces 0.5 es alfa 1\n",
    "q1 = -60 * (1-0.5) -32 * 0.5\n",
    "\n",
    "n3 = (13+1) * (3/4) # da 10.5, siendo alfa3 0.5\n",
    "q3 = 10 * (1-0.5) + 14 *0.5\n",
    "ri = q3 - q1\n",
    "bigote_superior_atipicos_leve = q3 + 1.5*ri\n",
    "bigote_inferior_atipicos_leve = q1 - 1.5*ri\n",
    "bigote_superior_atipicos_extremos = q3 + 3*ri\n",
    "bigote_inferior_atipicos_extremos = q1 - 3*ri\n",
    "\n",
    "edades_ordenadas = sorted(x for x in data['Edad'])\n",
    "\n",
    "bigote_inferior = min([num for num in edades_ordenadas if num >= bigote_inferior_atipicos_leve ], default=None)\n",
    "bigote_superior = max([num for num in edades_ordenadas if num <= bigote_superior_atipicos_leve ], default=None)\n",
    "\n",
    "\n"
   ]
  },
  {
   "cell_type": "markdown",
   "metadata": {
    "pycharm": {
     "name": "#%% md\n"
    }
   },
   "source": [
    "Como siguiente paso, detallamos las medidas obtenidas"
   ]
  },
  {
   "cell_type": "code",
   "execution_count": null,
   "metadata": {
    "pycharm": {
     "name": "#%%\n"
    }
   },
   "outputs": [],
   "source": [
    "                   "
   ]
  },
  {
   "cell_type": "code",
   "execution_count": 133,
   "metadata": {
    "pycharm": {
     "name": "#%%\n"
    }
   },
   "outputs": [
    {
     "name": "stdout",
     "output_type": "stream",
     "text": [
      "Edades: [-300, -155, -60, -32, -25, -10, -7, -1, 2, 10, 14, 16, 120]\n",
      "mediana: -7.0\n",
      "q1: -46.0\n",
      "q3: 12.0\n",
      "ri: 58.0\n",
      "bigote_superior_atipicos_leve: 99.0\n",
      "bigote_inferior_atipicos_leve: -133.0\n",
      "bigote_superior_atipicos_extremos: 186.0\n",
      "bigote_inferior_atipicos_extremos: -220.0\n",
      "bigote_inferior: -60\n",
      "bigote_superior: 16\n"
     ]
    }
   ],
   "source": [
    "variables = {\n",
    "    \"Edades\": edades_ordenadas,\n",
    "    \"mediana\": mediana,\n",
    "    \"q1\": q1,\n",
    "    \"q3\": q3,\n",
    "    \"ri\": ri,\n",
    "    \"bigote_superior_atipicos_leve\": bigote_superior_atipicos_leve,\n",
    "    \"bigote_inferior_atipicos_leve\": bigote_inferior_atipicos_leve,\n",
    "    \"bigote_superior_atipicos_extremos\": bigote_superior_atipicos_extremos,\n",
    "    \"bigote_inferior_atipicos_extremos\": bigote_inferior_atipicos_extremos,\n",
    "    \"bigote_inferior\": bigote_inferior,\n",
    "    \"bigote_superior\": bigote_superior\n",
    "}\n",
    "\n",
    "for nombre, valor in variables.items():\n",
    "    print(f\"{nombre}: {valor}\")"
   ]
  },
  {
   "cell_type": "markdown",
   "metadata": {
    "pycharm": {
     "name": "#%% md\n"
    }
   },
   "source": [
    "|  | Resultado | \n",
    "|------|--------------|\n",
    "|Mediana| -7|\n",
    "|Q1|-46|\n",
    "|Q3|12|\n",
    "|RI|58|\n",
    "|Bigote Sup|16|\n",
    "|Bigote Inf|-60|\n",
    "|Intervalos valores atipicos leves|(-220, -133) y (99, 186)|\n",
    "|Valores atipicos leves|-155,120|\n",
    "|Intervalos valores atipicos Extremos|(-inf , -220) y (186, inf)|\n",
    "|Valores atipicos Extremos|-300|"
   ]
  },
  {
   "cell_type": "code",
   "execution_count": 136,
   "metadata": {
    "pycharm": {
     "name": "#%%\n"
    }
   },
   "outputs": [
    {
     "data": {
      "image/png": "[encoded data removed]",
      "text/plain": [
       "<Figure size 576x360 with 1 Axes>"
      ]
     },
     "metadata": {
      "needs_background": "light"
     },
     "output_type": "display_data"
    }
   ],
   "source": [
    "plt.figure(figsize=(8, 5))\n",
    "sns.boxplot(x=data['Edad'], color=\"lightblue\", width=0.4)\n",
    "\n",
    "# Agregar líneas verticales para destacar valores clave\n",
    "for valor in [q1, mediana, q3, bigote_inferior, bigote_superior]:\n",
    "    plt.axvline(valor, linestyle=\"dashed\", color=\"red\", alpha=0.7)\n",
    "\n",
    "\n",
    "plt.title(\"Boxplot de Edades\", fontsize=12)\n",
    "plt.xlabel(\"Edad\")\n",
    "plt.grid(True, linestyle=\"--\", alpha=0.5)\n",
    "\n",
    "# Mostrar el gráfico\n",
    "plt.show()"
   ]
  },
  {
   "cell_type": "code",
   "execution_count": null,
   "metadata": {
    "pycharm": {
     "name": "#%%\n"
    }
   },
   "outputs": [],
   "source": []
  }
 ],
 "metadata": {
  "kernelspec": {
   "display_name": "Python 3",
   "language": "python",
   "name": "python3"
  },
  "language_info": {
   "codemirror_mode": {
    "name": "ipython",
    "version": 3
   },
   "file_extension": ".py",
   "mimetype": "text/x-python",
   "name": "python",
   "nbconvert_exporter": "python",
   "pygments_lexer": "ipython3",
   "version": "3.7.9"
  }
 },
 "nbformat": 4,
 "nbformat_minor": 4
}