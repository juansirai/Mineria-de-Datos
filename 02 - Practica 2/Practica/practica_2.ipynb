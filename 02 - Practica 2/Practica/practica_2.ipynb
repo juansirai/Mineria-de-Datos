{
 "cells": [
  {
   "cell_type": "markdown",
   "metadata": {},
   "source": [
    "# Practica 2 \n",
    "## Algoritmo K-Medias\n",
    "\n",
    "*Nota: Es obligatorio utilizar el formato de tabla indicado ejercicio para la entrega. Incluir las tablas y respuestas al principio, y al final un anexo con las cuentas de cada inciso. Utilizar una precisión de a lo sumo 2 decimales cuando sea necesario. No utilizar fracciones para expresar los resultados. Si las distancias de un ejemplo a los centroides son iguales, elegir un centroide de forma aleatoria.*"
   ]
  },
  {
   "cell_type": "code",
   "execution_count": 36,
   "metadata": {},
   "outputs": [],
   "source": [
    "import pandas as pd\n",
    "import seaborn as sns\n",
    "import matplotlib.pyplot as plt"
   ]
  },
  {
   "cell_type": "markdown",
   "metadata": {},
   "source": [
    "-------------\n",
    "## Enunciado y respuestas\n",
    "\n",
    "\n",
    "\n",
    "<span style=\"color:darkred\">**a) Dados los datos x1, x2, x3 y x4, y los centroides iniciales c1 y c2 (ver gráfico) realizar tres iteraciones del algoritmo k-medias visto en la teoría para obtener un clustering con k=2 grupos, y calcular el valor final de los centroides. Utilizar la medida de distancia euclídea al cuadrado. En cada iteración, graficar los puntos y centroides (recomendamos GeoGebra para graficar). Graficar también el resultado final.**</span>\n",
    "\n",
    "\n",
    "<img src = \"resultado ej_2_a.png\">\n",
    "\n",
    "### Iteracion 1\n",
    "<img src = \"it1 ej_2_a.png\">\n",
    "\n",
    "### Iteracion 2\n",
    "<img src = \"it2 ej_2_a.png\">\n",
    "\n",
    "### Iteracion 3\n",
    "<img src = \"it3 ej_2_a.png\">\n",
    "\n",
    "### Final\n",
    "<img src = \"final ej_2_a.png\">\n",
    "\n",
    "\n",
    "\n",
    "\n",
    "<span style=\"color:darkred\">**b)  Si realizara más iteraciones del algoritmo ¿cambiarían las asignaciones? ¿y los centros? ¿por qué?**</span>\n",
    "\n",
    "Al realizar mas iteraciones, no cambiarian ni las asignaciones ni los centros, ya que se ha encontrado la asignacion optima en la ultima iteracion (vemos como el resultado de la iteracion 2 fue igual al de la iteracion 3, lo que nos indica que no habra mas cambios)"
   ]
  },
  {
   "cell_type": "markdown",
   "metadata": {},
   "source": [
    "-----\n",
    "# Resolucion\n",
    "\n",
    "<span style=\"color:darkred\">A)<"
   ]
  },
  {
   "cell_type": "code",
   "execution_count": 84,
   "metadata": {},
   "outputs": [],
   "source": [
    "# Puntos\n",
    "x1 = (2,0)\n",
    "x2 = (1,2)\n",
    "x3 = (3,4)\n",
    "x4 = (4,4)\n",
    "\n",
    "# lista de puntos\n",
    "puntos = [x1,x2,x3,x4]\n",
    "\n",
    "\n",
    "\n",
    "#centroides iniciales\n",
    "c1 = [3,3]\n",
    "c2 = [4,3]\n",
    "\n",
    "centroides = [c1,c2]\n",
    "\n",
    "\n",
    "def distancia(x,c):\n",
    "    \"\"\"\n",
    "    funcion para calcular la distancia euclidea al cuadrado\n",
    "    x = tupla que representa un punto con coordenadas x,y\n",
    "    c = centroide con coordenadas x,y\n",
    "    return : distancia euclidea al cuadrado\n",
    "    \"\"\"\n",
    "    return pow((c[0]-x[0]),2)+pow((c[1]-x[1]),2)\n",
    "\n",
    "def calcular_distancias(puntos, c):\n",
    "    distancias = []\n",
    "    for p in puntos:\n",
    "        distancias.append(distancia(p, c))\n",
    "    return distancias\n",
    "\n",
    "\n",
    "def asignar_centroide(x,c1, c2):\n",
    "    \"\"\"\n",
    "    Asigna el centroide mas cercano a un punto\n",
    "    x = tupla que representa un punto con coordenadas x,y\n",
    "    c = centroide con coordenadas x,y\n",
    "    return : centroide mas cercano a punto x\n",
    "    \"\"\"\n",
    "    return \"C1\" if distancia(x,c1)<distancia(x,c2) else \"C2\"\n",
    "\n",
    "\n",
    "def iterar(puntos,centroides):\n",
    "    etiquetas = []\n",
    "    for punto in puntos:\n",
    "        etiquetas.append(asignar_centroide(punto, centroides[0],centroides[1]))\n",
    "    return etiquetas\n",
    "\n",
    "def crear_dataset(puntos, centroides):\n",
    "    \n",
    "    diccionario = {\n",
    "                    'X1': [x[0] for x in puntos],\n",
    "                    'X2': [x[1] for x in puntos],\n",
    "                    'punto': puntos,\n",
    "                    'dist_c1': calcular_distancias(puntos,centroides[0]),\n",
    "                   'dist_c2': calcular_distancias(puntos,centroides[1]),\n",
    "                   'centroide':iterar(puntos,centroides)}\n",
    "    \n",
    "    columns = ['X1','X2','punto','dist_c1','dist_c2','centroide']\n",
    "    data = pd.DataFrame(data=diccionario,  columns=columns)\n",
    "    return data\n",
    "\n",
    "\n",
    "            "
   ]
  },
  {
   "cell_type": "markdown",
   "metadata": {},
   "source": [
    "### Iteracion 1"
   ]
  },
  {
   "cell_type": "code",
   "execution_count": 85,
   "metadata": {},
   "outputs": [
    {
     "data": {
      "text/html": [
       "<div>\n",
       "<style scoped>\n",
       "    .dataframe tbody tr th:only-of-type {\n",
       "        vertical-align: middle;\n",
       "    }\n",
       "\n",
       "    .dataframe tbody tr th {\n",
       "        vertical-align: top;\n",
       "    }\n",
       "\n",
       "    .dataframe thead th {\n",
       "        text-align: right;\n",
       "    }\n",
       "</style>\n",
       "<table border=\"1\" class=\"dataframe\">\n",
       "  <thead>\n",
       "    <tr style=\"text-align: right;\">\n",
       "      <th></th>\n",
       "      <th>X1</th>\n",
       "      <th>X2</th>\n",
       "      <th>punto</th>\n",
       "      <th>dist_c1</th>\n",
       "      <th>dist_c2</th>\n",
       "      <th>centroide</th>\n",
       "    </tr>\n",
       "  </thead>\n",
       "  <tbody>\n",
       "    <tr>\n",
       "      <th>0</th>\n",
       "      <td>2</td>\n",
       "      <td>0</td>\n",
       "      <td>(2, 0)</td>\n",
       "      <td>10</td>\n",
       "      <td>13</td>\n",
       "      <td>C1</td>\n",
       "    </tr>\n",
       "    <tr>\n",
       "      <th>1</th>\n",
       "      <td>1</td>\n",
       "      <td>2</td>\n",
       "      <td>(1, 2)</td>\n",
       "      <td>5</td>\n",
       "      <td>10</td>\n",
       "      <td>C1</td>\n",
       "    </tr>\n",
       "    <tr>\n",
       "      <th>2</th>\n",
       "      <td>3</td>\n",
       "      <td>4</td>\n",
       "      <td>(3, 4)</td>\n",
       "      <td>1</td>\n",
       "      <td>2</td>\n",
       "      <td>C1</td>\n",
       "    </tr>\n",
       "    <tr>\n",
       "      <th>3</th>\n",
       "      <td>4</td>\n",
       "      <td>4</td>\n",
       "      <td>(4, 4)</td>\n",
       "      <td>2</td>\n",
       "      <td>1</td>\n",
       "      <td>C2</td>\n",
       "    </tr>\n",
       "  </tbody>\n",
       "</table>\n",
       "</div>"
      ],
      "text/plain": [
       "   X1  X2   punto  dist_c1  dist_c2 centroide\n",
       "0   2   0  (2, 0)       10       13        C1\n",
       "1   1   2  (1, 2)        5       10        C1\n",
       "2   3   4  (3, 4)        1        2        C1\n",
       "3   4   4  (4, 4)        2        1        C2"
      ]
     },
     "metadata": {},
     "output_type": "display_data"
    }
   ],
   "source": [
    "# iteramos por primera vez e imprimos el resultado por pantalla\n",
    "df_it1 = crear_dataset(puntos, centroides)\n",
    "display(df_it1)   "
   ]
  },
  {
   "cell_type": "code",
   "execution_count": 86,
   "metadata": {},
   "outputs": [
    {
     "data": {
      "image/png": "[encoded data removed]",
      "text/plain": [
       "<Figure size 1080x576 with 1 Axes>"
      ]
     },
     "metadata": {
      "needs_background": "light"
     },
     "output_type": "display_data"
    }
   ],
   "source": [
    "# Diagrama de dispersión\n",
    "plt.figure(figsize=(15, 8))\n",
    "sns.scatterplot(x=df_it1['X1'], y=df_it1['X2'], hue=df_it1['centroide'].astype(str), palette='Set2')\n",
    "x = [p[0] for p in centroides]\n",
    "y = [p[1] for p in centroides]\n",
    "\n",
    "plt.scatter(x, y, c='red', marker='x', s=100, label='Centroides')\n",
    "\n",
    "plt.legend(title=\"Clase\")\n",
    "plt.title(\"Iteracion 1\")\n",
    "plt.xlabel(\"X\")\n",
    "plt.ylabel(\"Y\")\n",
    "plt.show()"
   ]
  },
  {
   "cell_type": "markdown",
   "metadata": {},
   "source": [
    "Recalculamos los centroides con la nueva distribucion"
   ]
  },
  {
   "cell_type": "code",
   "execution_count": 87,
   "metadata": {},
   "outputs": [],
   "source": [
    "def recalcular_centroides(centroides,dataset):\n",
    "    c1_x = dataset.loc[dataset['centroide']=='C1']['X1'].mean()\n",
    "    c1_y = dataset.loc[dataset['centroide']=='C1']['X2'].mean()\n",
    "    \n",
    "    c2_x = dataset.loc[dataset['centroide']=='C2']['X1'].mean()\n",
    "    c2_y = dataset.loc[dataset['centroide']=='C2']['X2'].mean()\n",
    "    \n",
    "    centroides = [[c1_x,c1_y],[c2_x,c2_y]]\n",
    "    \n",
    "    \n",
    "    return centroides\n",
    "    "
   ]
  },
  {
   "cell_type": "code",
   "execution_count": 88,
   "metadata": {},
   "outputs": [],
   "source": [
    "centroides = recalcular_centroides(centroides, df_it1)"
   ]
  },
  {
   "cell_type": "code",
   "execution_count": 89,
   "metadata": {},
   "outputs": [
    {
     "name": "stdout",
     "output_type": "stream",
     "text": [
      "c1 =[2.0, 2.0], c2= [4.0, 4.0] \n"
     ]
    }
   ],
   "source": [
    "print(f\"c1 ={centroides[0]}, c2= {centroides[1]} \")"
   ]
  },
  {
   "cell_type": "markdown",
   "metadata": {},
   "source": [
    "## Iteracion 2"
   ]
  },
  {
   "cell_type": "code",
   "execution_count": 90,
   "metadata": {},
   "outputs": [
    {
     "data": {
      "text/html": [
       "<div>\n",
       "<style scoped>\n",
       "    .dataframe tbody tr th:only-of-type {\n",
       "        vertical-align: middle;\n",
       "    }\n",
       "\n",
       "    .dataframe tbody tr th {\n",
       "        vertical-align: top;\n",
       "    }\n",
       "\n",
       "    .dataframe thead th {\n",
       "        text-align: right;\n",
       "    }\n",
       "</style>\n",
       "<table border=\"1\" class=\"dataframe\">\n",
       "  <thead>\n",
       "    <tr style=\"text-align: right;\">\n",
       "      <th></th>\n",
       "      <th>X1</th>\n",
       "      <th>X2</th>\n",
       "      <th>punto</th>\n",
       "      <th>dist_c1</th>\n",
       "      <th>dist_c2</th>\n",
       "      <th>centroide</th>\n",
       "    </tr>\n",
       "  </thead>\n",
       "  <tbody>\n",
       "    <tr>\n",
       "      <th>0</th>\n",
       "      <td>2</td>\n",
       "      <td>0</td>\n",
       "      <td>(2, 0)</td>\n",
       "      <td>4.0</td>\n",
       "      <td>20.0</td>\n",
       "      <td>C1</td>\n",
       "    </tr>\n",
       "    <tr>\n",
       "      <th>1</th>\n",
       "      <td>1</td>\n",
       "      <td>2</td>\n",
       "      <td>(1, 2)</td>\n",
       "      <td>1.0</td>\n",
       "      <td>13.0</td>\n",
       "      <td>C1</td>\n",
       "    </tr>\n",
       "    <tr>\n",
       "      <th>2</th>\n",
       "      <td>3</td>\n",
       "      <td>4</td>\n",
       "      <td>(3, 4)</td>\n",
       "      <td>5.0</td>\n",
       "      <td>1.0</td>\n",
       "      <td>C2</td>\n",
       "    </tr>\n",
       "    <tr>\n",
       "      <th>3</th>\n",
       "      <td>4</td>\n",
       "      <td>4</td>\n",
       "      <td>(4, 4)</td>\n",
       "      <td>8.0</td>\n",
       "      <td>0.0</td>\n",
       "      <td>C2</td>\n",
       "    </tr>\n",
       "  </tbody>\n",
       "</table>\n",
       "</div>"
      ],
      "text/plain": [
       "   X1  X2   punto  dist_c1  dist_c2 centroide\n",
       "0   2   0  (2, 0)      4.0     20.0        C1\n",
       "1   1   2  (1, 2)      1.0     13.0        C1\n",
       "2   3   4  (3, 4)      5.0      1.0        C2\n",
       "3   4   4  (4, 4)      8.0      0.0        C2"
      ]
     },
     "metadata": {},
     "output_type": "display_data"
    }
   ],
   "source": [
    "# iteramos por segunda vez e imprimos el resultado por pantalla\n",
    "df_it2 = crear_dataset(puntos, centroides)\n",
    "display(df_it2)   "
   ]
  },
  {
   "cell_type": "code",
   "execution_count": 91,
   "metadata": {},
   "outputs": [
    {
     "data": {
      "image/png": "[encoded data removed]",
      "text/plain": [
       "<Figure size 1080x576 with 1 Axes>"
      ]
     },
     "metadata": {
      "needs_background": "light"
     },
     "output_type": "display_data"
    }
   ],
   "source": [
    "# Diagrama de dispersión\n",
    "plt.figure(figsize=(15, 8))\n",
    "sns.scatterplot(x=df_it2['X1'], y=df_it2['X2'], hue=df_it2['centroide'].astype(str), palette='Set2')\n",
    "x = [p[0] for p in centroides]\n",
    "y = [p[1] for p in centroides]\n",
    "\n",
    "plt.scatter(x, y, c='red', marker='x', s=100, label='Centroides')\n",
    "\n",
    "plt.legend(title=\"Clase\")\n",
    "plt.title(\"Iteracion 2\")\n",
    "plt.xlabel(\"X\")\n",
    "plt.ylabel(\"Y\")\n",
    "plt.show()"
   ]
  },
  {
   "cell_type": "code",
   "execution_count": 92,
   "metadata": {},
   "outputs": [
    {
     "name": "stdout",
     "output_type": "stream",
     "text": [
      "c1 =[1.5, 1.0], c2= [3.5, 4.0] \n"
     ]
    },
    {
     "data": {
      "image/png": "[encoded data removed]",
      "text/plain": [
       "<Figure size 1080x576 with 1 Axes>"
      ]
     },
     "metadata": {
      "needs_background": "light"
     },
     "output_type": "display_data"
    }
   ],
   "source": [
    "#nuevos centroides\n",
    "\n",
    "centroides = recalcular_centroides(centroides, df_it2)\n",
    "print(f\"c1 ={centroides[0]}, c2= {centroides[1]} \")\n",
    "\n",
    "# Diagrama de dispersión\n",
    "plt.figure(figsize=(15, 8))\n",
    "sns.scatterplot(x=df_it2['X1'], y=df_it2['X2'], hue=df_it2['centroide'].astype(str), palette='Set2')\n",
    "x = [p[0] for p in centroides]\n",
    "y = [p[1] for p in centroides]\n",
    "\n",
    "plt.scatter(x, y, c='red', marker='x', s=100, label='Centroides')\n",
    "\n",
    "plt.legend(title=\"Clase\")\n",
    "plt.title(\"Diagrama de dispersión de los puntos\")\n",
    "plt.xlabel(\"X\")\n",
    "plt.ylabel(\"Y\")\n",
    "plt.show()"
   ]
  },
  {
   "cell_type": "markdown",
   "metadata": {},
   "source": [
    "## Iteracion 3"
   ]
  },
  {
   "cell_type": "code",
   "execution_count": 93,
   "metadata": {},
   "outputs": [
    {
     "data": {
      "text/html": [
       "<div>\n",
       "<style scoped>\n",
       "    .dataframe tbody tr th:only-of-type {\n",
       "        vertical-align: middle;\n",
       "    }\n",
       "\n",
       "    .dataframe tbody tr th {\n",
       "        vertical-align: top;\n",
       "    }\n",
       "\n",
       "    .dataframe thead th {\n",
       "        text-align: right;\n",
       "    }\n",
       "</style>\n",
       "<table border=\"1\" class=\"dataframe\">\n",
       "  <thead>\n",
       "    <tr style=\"text-align: right;\">\n",
       "      <th></th>\n",
       "      <th>X1</th>\n",
       "      <th>X2</th>\n",
       "      <th>punto</th>\n",
       "      <th>dist_c1</th>\n",
       "      <th>dist_c2</th>\n",
       "      <th>centroide</th>\n",
       "    </tr>\n",
       "  </thead>\n",
       "  <tbody>\n",
       "    <tr>\n",
       "      <th>0</th>\n",
       "      <td>2</td>\n",
       "      <td>0</td>\n",
       "      <td>(2, 0)</td>\n",
       "      <td>1.25</td>\n",
       "      <td>18.25</td>\n",
       "      <td>C1</td>\n",
       "    </tr>\n",
       "    <tr>\n",
       "      <th>1</th>\n",
       "      <td>1</td>\n",
       "      <td>2</td>\n",
       "      <td>(1, 2)</td>\n",
       "      <td>1.25</td>\n",
       "      <td>10.25</td>\n",
       "      <td>C1</td>\n",
       "    </tr>\n",
       "    <tr>\n",
       "      <th>2</th>\n",
       "      <td>3</td>\n",
       "      <td>4</td>\n",
       "      <td>(3, 4)</td>\n",
       "      <td>11.25</td>\n",
       "      <td>0.25</td>\n",
       "      <td>C2</td>\n",
       "    </tr>\n",
       "    <tr>\n",
       "      <th>3</th>\n",
       "      <td>4</td>\n",
       "      <td>4</td>\n",
       "      <td>(4, 4)</td>\n",
       "      <td>15.25</td>\n",
       "      <td>0.25</td>\n",
       "      <td>C2</td>\n",
       "    </tr>\n",
       "  </tbody>\n",
       "</table>\n",
       "</div>"
      ],
      "text/plain": [
       "   X1  X2   punto  dist_c1  dist_c2 centroide\n",
       "0   2   0  (2, 0)     1.25    18.25        C1\n",
       "1   1   2  (1, 2)     1.25    10.25        C1\n",
       "2   3   4  (3, 4)    11.25     0.25        C2\n",
       "3   4   4  (4, 4)    15.25     0.25        C2"
      ]
     },
     "metadata": {},
     "output_type": "display_data"
    }
   ],
   "source": [
    "# iteramos por tercera vez e imprimos el resultado por pantalla\n",
    "df_it3 = crear_dataset(puntos, centroides)\n",
    "display(df_it3)   "
   ]
  },
  {
   "cell_type": "code",
   "execution_count": 94,
   "metadata": {},
   "outputs": [
    {
     "data": {
      "image/png": "[encoded data removed]",
      "text/plain": [
       "<Figure size 1080x576 with 1 Axes>"
      ]
     },
     "metadata": {
      "needs_background": "light"
     },
     "output_type": "display_data"
    }
   ],
   "source": [
    "# Diagrama de dispersión\n",
    "plt.figure(figsize=(15, 8))\n",
    "sns.scatterplot(x=df_it3['X1'], y=df_it3['X2'], hue=df_it3['centroide'].astype(str), palette='Set2')\n",
    "x = [p[0] for p in centroides]\n",
    "y = [p[1] for p in centroides]\n",
    "\n",
    "plt.scatter(x, y, c='red', marker='x', s=100, label='Centroides')\n",
    "\n",
    "plt.legend(title=\"Clase\")\n",
    "plt.title(\"Iteracion 3\")\n",
    "plt.xlabel(\"X\")\n",
    "plt.ylabel(\"Y\")\n",
    "plt.show()"
   ]
  },
  {
   "cell_type": "code",
   "execution_count": 96,
   "metadata": {},
   "outputs": [
    {
     "data": {
      "image/png": "[encoded data removed]",
      "text/plain": [
       "<Figure size 1080x576 with 1 Axes>"
      ]
     },
     "metadata": {
      "needs_background": "light"
     },
     "output_type": "display_data"
    }
   ],
   "source": [
    "#nuevos centroides\n",
    "\n",
    "centroides = recalcular_centroides(centroides, df_it2)\n",
    "\n",
    "# Diagrama de dispersión\n",
    "plt.figure(figsize=(15, 8))\n",
    "sns.scatterplot(x=df_it2['X1'], y=df_it2['X2'], hue=df_it2['centroide'].astype(str), palette='Set2')\n",
    "x = [p[0] for p in centroides]\n",
    "y = [p[1] for p in centroides]\n",
    "\n",
    "plt.scatter(x, y, c='red', marker='x', s=100, label='Centroides')\n",
    "\n",
    "plt.legend(title=\"Clase\")\n",
    "plt.title(\"Resultado Final\")\n",
    "plt.xlabel(\"X\")\n",
    "plt.ylabel(\"Y\")\n",
    "plt.show()"
   ]
  },
  {
   "cell_type": "code",
   "execution_count": null,
   "metadata": {},
   "outputs": [],
   "source": []
  }
 ],
 "metadata": {
  "kernelspec": {
   "display_name": "Python 3",
   "language": "python",
   "name": "python3"
  },
  "language_info": {
   "codemirror_mode": {
    "name": "ipython",
    "version": 3
   },
   "file_extension": ".py",
   "mimetype": "text/x-python",
   "name": "python",
   "nbconvert_exporter": "python",
   "pygments_lexer": "ipython3",
   "version": "3.7.9"
  }
 },
 "nbformat": 4,
 "nbformat_minor": 4
}
